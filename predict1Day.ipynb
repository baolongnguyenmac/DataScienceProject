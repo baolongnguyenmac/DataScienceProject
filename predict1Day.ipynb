{
 "cells": [
  {
   "cell_type": "markdown",
   "metadata": {},
   "source": [
    "# Dự đoán giá chứng khoán trong 1 ngày tiếp theo của Amazon\n",
    "---"
   ]
  },
  {
   "cell_type": "markdown",
   "metadata": {},
   "source": [
    "## 1. Import thư viện\n",
    "---"
   ]
  },
  {
   "cell_type": "code",
   "execution_count": 1,
   "metadata": {},
   "outputs": [],
   "source": [
    "import pandas as pd \n",
    "\n",
    "# phải cài cái này để load dữ liệu về\n",
    "from pandas_datareader.data import DataReader\n",
    "\n",
    "import numpy as np\n",
    "\n",
    "from sklearn.preprocessing import MinMaxScaler\n",
    "from sklearn.pipeline import Pipeline\n",
    "from sklearn.base import BaseEstimator, TransformerMixin\n",
    "from sklearn.preprocessing import FunctionTransformer\n",
    "\n",
    "# vẽ biểu đồ cho ngầu \n",
    "import matplotlib.pyplot as plt\n",
    "import seaborn as sns\n",
    "sns.set_style('whitegrid')\n",
    "plt.style.use(\"fivethirtyeight\")\n",
    "%matplotlib inline\n",
    "\n",
    "# xử lý thời gian \n",
    "from datetime import datetime\n",
    "\n",
    "# keras for LSTM\n",
    "# phải cài cái này \n",
    "from keras.models import Sequential\n",
    "from keras.layers import Dense, Dropout, LSTM"
   ]
  },
  {
   "cell_type": "markdown",
   "metadata": {},
   "source": [
    "## 2. Download data\n",
    "---"
   ]
  },
  {
   "cell_type": "code",
   "execution_count": 2,
   "metadata": {},
   "outputs": [
    {
     "data": {
      "text/html": [
       "<div>\n",
       "<style scoped>\n",
       "    .dataframe tbody tr th:only-of-type {\n",
       "        vertical-align: middle;\n",
       "    }\n",
       "\n",
       "    .dataframe tbody tr th {\n",
       "        vertical-align: top;\n",
       "    }\n",
       "\n",
       "    .dataframe thead th {\n",
       "        text-align: right;\n",
       "    }\n",
       "</style>\n",
       "<table border=\"1\" class=\"dataframe\">\n",
       "  <thead>\n",
       "    <tr style=\"text-align: right;\">\n",
       "      <th></th>\n",
       "      <th>High</th>\n",
       "      <th>Low</th>\n",
       "      <th>Open</th>\n",
       "      <th>Close</th>\n",
       "      <th>Volume</th>\n",
       "      <th>Adj Close</th>\n",
       "    </tr>\n",
       "    <tr>\n",
       "      <th>Date</th>\n",
       "      <th></th>\n",
       "      <th></th>\n",
       "      <th></th>\n",
       "      <th></th>\n",
       "      <th></th>\n",
       "      <th></th>\n",
       "    </tr>\n",
       "  </thead>\n",
       "  <tbody>\n",
       "    <tr>\n",
       "      <th>2008-12-31</th>\n",
       "      <td>51.689999</td>\n",
       "      <td>49.910000</td>\n",
       "      <td>50.740002</td>\n",
       "      <td>51.279999</td>\n",
       "      <td>7792200</td>\n",
       "      <td>51.279999</td>\n",
       "    </tr>\n",
       "    <tr>\n",
       "      <th>2009-01-02</th>\n",
       "      <td>54.529999</td>\n",
       "      <td>51.070000</td>\n",
       "      <td>51.349998</td>\n",
       "      <td>54.360001</td>\n",
       "      <td>7296400</td>\n",
       "      <td>54.360001</td>\n",
       "    </tr>\n",
       "    <tr>\n",
       "      <th>2009-01-05</th>\n",
       "      <td>55.740002</td>\n",
       "      <td>53.029999</td>\n",
       "      <td>55.730000</td>\n",
       "      <td>54.060001</td>\n",
       "      <td>9509800</td>\n",
       "      <td>54.060001</td>\n",
       "    </tr>\n",
       "    <tr>\n",
       "      <th>2009-01-06</th>\n",
       "      <td>58.220001</td>\n",
       "      <td>53.750000</td>\n",
       "      <td>54.549999</td>\n",
       "      <td>57.360001</td>\n",
       "      <td>11080100</td>\n",
       "      <td>57.360001</td>\n",
       "    </tr>\n",
       "    <tr>\n",
       "      <th>2009-01-07</th>\n",
       "      <td>56.950001</td>\n",
       "      <td>55.349998</td>\n",
       "      <td>56.290001</td>\n",
       "      <td>56.200001</td>\n",
       "      <td>7942700</td>\n",
       "      <td>56.200001</td>\n",
       "    </tr>\n",
       "    <tr>\n",
       "      <th>...</th>\n",
       "      <td>...</td>\n",
       "      <td>...</td>\n",
       "      <td>...</td>\n",
       "      <td>...</td>\n",
       "      <td>...</td>\n",
       "      <td>...</td>\n",
       "    </tr>\n",
       "    <tr>\n",
       "      <th>2019-12-24</th>\n",
       "      <td>1795.569946</td>\n",
       "      <td>1787.579956</td>\n",
       "      <td>1793.810059</td>\n",
       "      <td>1789.209961</td>\n",
       "      <td>881300</td>\n",
       "      <td>1789.209961</td>\n",
       "    </tr>\n",
       "    <tr>\n",
       "      <th>2019-12-26</th>\n",
       "      <td>1870.459961</td>\n",
       "      <td>1799.500000</td>\n",
       "      <td>1801.010010</td>\n",
       "      <td>1868.770020</td>\n",
       "      <td>6005400</td>\n",
       "      <td>1868.770020</td>\n",
       "    </tr>\n",
       "    <tr>\n",
       "      <th>2019-12-27</th>\n",
       "      <td>1901.400024</td>\n",
       "      <td>1866.010010</td>\n",
       "      <td>1882.920044</td>\n",
       "      <td>1869.800049</td>\n",
       "      <td>6186600</td>\n",
       "      <td>1869.800049</td>\n",
       "    </tr>\n",
       "    <tr>\n",
       "      <th>2019-12-30</th>\n",
       "      <td>1884.000000</td>\n",
       "      <td>1840.619995</td>\n",
       "      <td>1874.000000</td>\n",
       "      <td>1846.890015</td>\n",
       "      <td>3674700</td>\n",
       "      <td>1846.890015</td>\n",
       "    </tr>\n",
       "    <tr>\n",
       "      <th>2019-12-31</th>\n",
       "      <td>1853.260010</td>\n",
       "      <td>1832.229980</td>\n",
       "      <td>1842.000000</td>\n",
       "      <td>1847.839966</td>\n",
       "      <td>2506500</td>\n",
       "      <td>1847.839966</td>\n",
       "    </tr>\n",
       "  </tbody>\n",
       "</table>\n",
       "<p>2769 rows × 6 columns</p>\n",
       "</div>"
      ],
      "text/plain": [
       "                   High          Low         Open        Close    Volume  \\\n",
       "Date                                                                       \n",
       "2008-12-31    51.689999    49.910000    50.740002    51.279999   7792200   \n",
       "2009-01-02    54.529999    51.070000    51.349998    54.360001   7296400   \n",
       "2009-01-05    55.740002    53.029999    55.730000    54.060001   9509800   \n",
       "2009-01-06    58.220001    53.750000    54.549999    57.360001  11080100   \n",
       "2009-01-07    56.950001    55.349998    56.290001    56.200001   7942700   \n",
       "...                 ...          ...          ...          ...       ...   \n",
       "2019-12-24  1795.569946  1787.579956  1793.810059  1789.209961    881300   \n",
       "2019-12-26  1870.459961  1799.500000  1801.010010  1868.770020   6005400   \n",
       "2019-12-27  1901.400024  1866.010010  1882.920044  1869.800049   6186600   \n",
       "2019-12-30  1884.000000  1840.619995  1874.000000  1846.890015   3674700   \n",
       "2019-12-31  1853.260010  1832.229980  1842.000000  1847.839966   2506500   \n",
       "\n",
       "              Adj Close  \n",
       "Date                     \n",
       "2008-12-31    51.279999  \n",
       "2009-01-02    54.360001  \n",
       "2009-01-05    54.060001  \n",
       "2009-01-06    57.360001  \n",
       "2009-01-07    56.200001  \n",
       "...                 ...  \n",
       "2019-12-24  1789.209961  \n",
       "2019-12-26  1868.770020  \n",
       "2019-12-27  1869.800049  \n",
       "2019-12-30  1846.890015  \n",
       "2019-12-31  1847.839966  \n",
       "\n",
       "[2769 rows x 6 columns]"
      ]
     },
     "execution_count": 2,
     "metadata": {},
     "output_type": "execute_result"
    }
   ],
   "source": [
    "df = DataReader('AMZN', data_source='yahoo', start='2009-01-01', end='2019-12-31')\n",
    "df\n",
    "# df = pd.read_csv('AMZN.csv')\n",
    "# df = df.set_index('Date')\n",
    "# df"
   ]
  },
  {
   "cell_type": "code",
   "execution_count": 3,
   "metadata": {},
   "outputs": [
    {
     "data": {
      "text/plain": [
       "(2769, 6)"
      ]
     },
     "execution_count": 3,
     "metadata": {},
     "output_type": "execute_result"
    }
   ],
   "source": [
    "df.shape"
   ]
  },
  {
   "cell_type": "code",
   "execution_count": 4,
   "metadata": {},
   "outputs": [
    {
     "data": {
      "image/png": "[encoded data removed]",
      "text/plain": [
       "<Figure size 1152x576 with 1 Axes>"
      ]
     },
     "metadata": {
      "needs_background": "light"
     },
     "output_type": "display_data"
    }
   ],
   "source": [
    "plt.figure(figsize=(16,8))\n",
    "plt.plot(df['Adj Close'])\n",
    "plt.xlabel('Date', fontsize=18)\n",
    "plt.ylabel('Adj Close Price', fontsize=18)\n",
    "plt.show()"
   ]
  },
  {
   "cell_type": "markdown",
   "metadata": {},
   "source": [
    "## 3. Chia tập dữ liệu để làm việc\n",
    "---"
   ]
  },
  {
   "cell_type": "code",
   "execution_count": 5,
   "metadata": {},
   "outputs": [
    {
     "data": {
      "text/plain": [
       "((1661, 6), (554, 6), (554, 6))"
      ]
     },
     "execution_count": 5,
     "metadata": {},
     "output_type": "execute_result"
    }
   ],
   "source": [
    "def splitDataset(df):\n",
    "    length = df.shape[0]\n",
    "    sixtyPercent = length * 60 // 100\n",
    "    eightyPercent = length * 80 // 100\n",
    "    train_df = df[:sixtyPercent]\n",
    "    val_df = df[sixtyPercent:eightyPercent]\n",
    "    test_df = df[eightyPercent:]\n",
    "    return train_df, val_df, test_df\n",
    "\n",
    "train_df, val_df, test_df = splitDataset(df)\n",
    "\n",
    "train_df.shape, val_df.shape, test_df.shape"
   ]
  },
  {
   "cell_type": "markdown",
   "metadata": {},
   "source": [
    "## 4. Tiền xử lý tập train và tạo `preprocess_pipeline`\n",
    "---"
   ]
  },
  {
   "cell_type": "code",
   "execution_count": 6,
   "metadata": {},
   "outputs": [
    {
     "data": {
      "text/plain": [
       "(1661, 1)"
      ]
     },
     "execution_count": 6,
     "metadata": {},
     "output_type": "execute_result"
    }
   ],
   "source": [
    "# tạo dataframe chỉ bao gồm cột index và cột Adj Close Price \n",
    "def createDataFrame(df):\n",
    "    return df.filter(['Adj Close'])\n",
    "\n",
    "real_train_df = createDataFrame(train_df)\n",
    "real_train_df.shape"
   ]
  },
  {
   "cell_type": "code",
   "execution_count": 7,
   "metadata": {},
   "outputs": [
    {
     "data": {
      "text/plain": [
       "(1661,)"
      ]
     },
     "execution_count": 7,
     "metadata": {},
     "output_type": "execute_result"
    }
   ],
   "source": [
    "# scale dữ liệu train\n",
    "scaler = MinMaxScaler()\n",
    "scaled_train_data = scaler.fit_transform(real_train_df)\n",
    "\n",
    "def reshapeForModel(scaled_train_data):\n",
    "    return scaled_train_data.reshape((-1,))\n",
    "\n",
    "scaled_train_data = reshapeForModel(scaled_train_data)\n",
    "scaled_train_data.shape"
   ]
  },
  {
   "cell_type": "code",
   "execution_count": 8,
   "metadata": {},
   "outputs": [
    {
     "data": {
      "text/plain": [
       "((1601, 60, 1), (1601, 1))"
      ]
     },
     "execution_count": 8,
     "metadata": {},
     "output_type": "execute_result"
    }
   ],
   "source": [
    "# tạo dữ liệu train_X và train_y\n",
    "def createTrainX_y(scaled_train_data, time_steps=60, out_length=1):\n",
    "    train_X = []\n",
    "    train_y = []\n",
    "    for i in range(len(scaled_train_data) - time_steps - out_length + 1):\n",
    "        end_X = i + time_steps\n",
    "        end_y = end_X + out_length\n",
    "        train_X.append(scaled_train_data[i:end_X])\n",
    "        train_y.append(scaled_train_data[end_X:end_y])\n",
    "\n",
    "    train_X, train_y = np.array(train_X), np.array(train_y)\n",
    "    return train_X.reshape((train_X.shape[0], train_X.shape[1], 1)), train_y\n",
    "\n",
    "train_X, train_y = createTrainX_y(scaled_train_data)\n",
    "train_X.shape, train_y.shape"
   ]
  },
  {
   "cell_type": "code",
   "execution_count": 9,
   "metadata": {},
   "outputs": [
    {
     "data": {
      "text/plain": [
       "((1601, 60, 1), (1601, 1))"
      ]
     },
     "execution_count": 9,
     "metadata": {},
     "output_type": "execute_result"
    }
   ],
   "source": [
    "preprocess_pipeline = Pipeline([\n",
    "    ('dropper', FunctionTransformer(createDataFrame)),\n",
    "    ('scaler', MinMaxScaler()),\n",
    "    ('reshape', FunctionTransformer(reshapeForModel)),\n",
    "    ('createTrain', FunctionTransformer(createTrainX_y)),\n",
    "])\n",
    "\n",
    "train_X, train_y = preprocess_pipeline.fit_transform(train_df)\n",
    "train_X.shape, train_y.shape"
   ]
  },
  {
   "cell_type": "markdown",
   "metadata": {},
   "source": [
    "## 5. Tạo model để xử lý tập validation\n",
    "---"
   ]
  },
  {
   "cell_type": "code",
   "execution_count": 10,
   "metadata": {},
   "outputs": [],
   "source": [
    "# Tạo model \n",
    "def createModel(train_X, time_steps=60, out_length=1):\n",
    "    model = Sequential()\n",
    "    model.add(LSTM(60, activation='tanh', return_sequences=False, input_shape=(train_X.shape[1], 1)))\n",
    "    model.add(Dense(out_length))\n",
    "    model.compile(optimizer='adam', loss='mse')\n",
    "\n",
    "    return model"
   ]
  },
  {
   "cell_type": "markdown",
   "metadata": {},
   "source": [
    "- Để có thể dự đoán được các giá trị trong tập val, ta cần 60 giá trị cuối cùng của tập train \n",
    "- Do đó, cần tạo mảng input chứa các dữ liệu nêu trên để có thể dự đoán"
   ]
  },
  {
   "cell_type": "code",
   "execution_count": 11,
   "metadata": {},
   "outputs": [
    {
     "data": {
      "text/plain": [
       "((554, 60, 1), (554, 1))"
      ]
     },
     "execution_count": 11,
     "metadata": {},
     "output_type": "execute_result"
    }
   ],
   "source": [
    "# xử lý tập validation\n",
    "# tạo tập inputs\n",
    "val_inputs = df[len(df) - len(val_df) - 60:]\n",
    "val_X, val_y = preprocess_pipeline.transform(val_inputs)\n",
    "val_X.shape, val_y.shape"
   ]
  },
  {
   "cell_type": "code",
   "execution_count": 12,
   "metadata": {},
   "outputs": [
    {
     "name": "stdout",
     "output_type": "stream",
     "text": [
      "1601/1601 [==============================] - 9s 6ms/step - loss: 0.0011\n"
     ]
    },
    {
     "name": "stderr",
     "output_type": "stream",
     "text": [
      "<ipython-input-12-0be6122c97ba>:15: SettingWithCopyWarning: \n",
      "A value is trying to be set on a copy of a slice from a DataFrame.\n",
      "Try using .loc[row_indexer,col_indexer] = value instead\n",
      "\n",
      "See the caveats in the documentation: https://pandas.pydata.org/pandas-docs/stable/user_guide/indexing.html#returning-a-view-versus-a-copy\n",
      "  val_df['Predict'] = pred_val\n"
     ]
    },
    {
     "name": "stdout",
     "output_type": "stream",
     "text": [
      "1 841.2017798867768\n",
      "Epoch 1/2\n",
      "1601/1601 [==============================] - 9s 6ms/step - loss: 0.0016A: 0s - los\n",
      "Epoch 2/2\n",
      "1601/1601 [==============================] - 10s 6ms/step - loss: 4.4280e-04\n"
     ]
    },
    {
     "name": "stderr",
     "output_type": "stream",
     "text": [
      "<ipython-input-12-0be6122c97ba>:15: SettingWithCopyWarning: \n",
      "A value is trying to be set on a copy of a slice from a DataFrame.\n",
      "Try using .loc[row_indexer,col_indexer] = value instead\n",
      "\n",
      "See the caveats in the documentation: https://pandas.pydata.org/pandas-docs/stable/user_guide/indexing.html#returning-a-view-versus-a-copy\n",
      "  val_df['Predict'] = pred_val\n"
     ]
    },
    {
     "name": "stdout",
     "output_type": "stream",
     "text": [
      "2 824.8912411901847\n",
      "Epoch 1/3\n",
      "1601/1601 [==============================] - 10s 6ms/step - loss: 9.5974e-04\n",
      "Epoch 2/3\n",
      "1601/1601 [==============================] - 10s 6ms/step - loss: 3.8133e-04\n",
      "Epoch 3/3\n",
      "1601/1601 [==============================] - 11s 7ms/step - loss: 3.0683e-04\n"
     ]
    },
    {
     "name": "stderr",
     "output_type": "stream",
     "text": [
      "<ipython-input-12-0be6122c97ba>:15: SettingWithCopyWarning: \n",
      "A value is trying to be set on a copy of a slice from a DataFrame.\n",
      "Try using .loc[row_indexer,col_indexer] = value instead\n",
      "\n",
      "See the caveats in the documentation: https://pandas.pydata.org/pandas-docs/stable/user_guide/indexing.html#returning-a-view-versus-a-copy\n",
      "  val_df['Predict'] = pred_val\n"
     ]
    },
    {
     "name": "stdout",
     "output_type": "stream",
     "text": [
      "Epoch 1/4\n",
      "1601/1601 [==============================] - 10s 6ms/step - loss: 0.0013\n",
      "Epoch 2/4\n",
      "1601/1601 [==============================] - 11s 7ms/step - loss: 3.8242e-04\n",
      "Epoch 3/4\n",
      "1601/1601 [==============================] - 11s 7ms/step - loss: 3.0215e-04\n",
      "Epoch 4/4\n",
      "1601/1601 [==============================] - 10s 6ms/step - loss: 2.8291e-04\n"
     ]
    },
    {
     "name": "stderr",
     "output_type": "stream",
     "text": [
      "<ipython-input-12-0be6122c97ba>:15: SettingWithCopyWarning: \n",
      "A value is trying to be set on a copy of a slice from a DataFrame.\n",
      "Try using .loc[row_indexer,col_indexer] = value instead\n",
      "\n",
      "See the caveats in the documentation: https://pandas.pydata.org/pandas-docs/stable/user_guide/indexing.html#returning-a-view-versus-a-copy\n",
      "  val_df['Predict'] = pred_val\n"
     ]
    },
    {
     "name": "stdout",
     "output_type": "stream",
     "text": [
      "Epoch 1/5\n",
      "1601/1601 [==============================] - 11s 7ms/step - loss: 0.0017\n",
      "Epoch 2/5\n",
      "1601/1601 [==============================] - 11s 7ms/step - loss: 4.5373e-04\n",
      "Epoch 3/5\n",
      "1601/1601 [==============================] - 10s 6ms/step - loss: 3.3824e-04\n",
      "Epoch 4/5\n",
      "1601/1601 [==============================] - 10s 7ms/step - loss: 2.8701e-04\n",
      "Epoch 5/5\n",
      "1601/1601 [==============================] - 11s 7ms/step - loss: 2.5951e-04\n"
     ]
    },
    {
     "name": "stderr",
     "output_type": "stream",
     "text": [
      "<ipython-input-12-0be6122c97ba>:15: SettingWithCopyWarning: \n",
      "A value is trying to be set on a copy of a slice from a DataFrame.\n",
      "Try using .loc[row_indexer,col_indexer] = value instead\n",
      "\n",
      "See the caveats in the documentation: https://pandas.pydata.org/pandas-docs/stable/user_guide/indexing.html#returning-a-view-versus-a-copy\n",
      "  val_df['Predict'] = pred_val\n"
     ]
    },
    {
     "name": "stdout",
     "output_type": "stream",
     "text": [
      "5 802.2756097914869\n",
      "Epoch 1/6\n",
      "1601/1601 [==============================] - 11s 7ms/step - loss: 0.0012\n",
      "Epoch 2/6\n",
      "1601/1601 [==============================] - 13s 8ms/step - loss: 4.3733e-04\n",
      "Epoch 3/6\n",
      "1601/1601 [==============================] - 11s 7ms/step - loss: 3.0821e-04\n",
      "Epoch 4/6\n",
      "1601/1601 [==============================] - 11s 7ms/step - loss: 2.6046e-04\n",
      "Epoch 5/6\n",
      "1601/1601 [==============================] - 11s 7ms/step - loss: 2.2045e-04: 0s - loss: 2.2046\n",
      "Epoch 6/6\n",
      "1601/1601 [==============================] - 11s 7ms/step - loss: 2.0913e-04\n",
      "6 784.6159727640095\n"
     ]
    },
    {
     "name": "stderr",
     "output_type": "stream",
     "text": [
      "<ipython-input-12-0be6122c97ba>:15: SettingWithCopyWarning: \n",
      "A value is trying to be set on a copy of a slice from a DataFrame.\n",
      "Try using .loc[row_indexer,col_indexer] = value instead\n",
      "\n",
      "See the caveats in the documentation: https://pandas.pydata.org/pandas-docs/stable/user_guide/indexing.html#returning-a-view-versus-a-copy\n",
      "  val_df['Predict'] = pred_val\n"
     ]
    }
   ],
   "source": [
    "# thử nhiều tham số epochs để tìm ra model tốt nhất\n",
    "epochs_ = [1,2,3,4,5,6]\n",
    "best_val_err = float('inf')\n",
    "best_epoch = None\n",
    "\n",
    "for e in epochs_:\n",
    "    # build model \n",
    "    model = createModel(train_X)\n",
    "    model.fit(train_X, train_y, batch_size=1, epochs=e)\n",
    "\n",
    "    # dự đoán tập inputs\n",
    "    pred_val = model.predict(val_X)\n",
    "    pred_val = preprocess_pipeline.inverse_transform(pred_val)\n",
    "\n",
    "    val_df['Predict'] = pred_val\n",
    "    mse = np.sqrt(np.mean(((val_df['Predict'] - val_df['Adj Close']) ** 2)))\n",
    "    if mse < best_val_err:\n",
    "        best_val_err = mse \n",
    "        best_epoch = e\n",
    "        print(e, mse)"
   ]
  },
  {
   "cell_type": "markdown",
   "metadata": {},
   "source": [
    "## 6. `fit` model với tập train + valid và predict tập test \n",
    "---"
   ]
  },
  {
   "cell_type": "code",
   "execution_count": 14,
   "metadata": {},
   "outputs": [
    {
     "name": "stdout",
     "output_type": "stream",
     "text": [
      "Epoch 1/6\n",
      "2095/2095 [==============================] - 12s 6ms/step - loss: 0.0013\n",
      "Epoch 2/6\n",
      "2095/2095 [==============================] - 12s 6ms/step - loss: 2.8353e-04\n",
      "Epoch 3/6\n",
      "2095/2095 [==============================] - 13s 6ms/step - loss: 2.2973e-04\n",
      "Epoch 4/6\n",
      "2095/2095 [==============================] - 13s 6ms/step - loss: 1.7884e-04\n",
      "Epoch 5/6\n",
      "2095/2095 [==============================] - 14s 7ms/step - loss: 1.2950e-04\n",
      "Epoch 6/6\n",
      "2095/2095 [==============================] - 13s 6ms/step - loss: 1.2411e-04\n"
     ]
    },
    {
     "data": {
      "text/plain": [
       "<tensorflow.python.keras.callbacks.History at 0x26c2c7eaee0>"
      ]
     },
     "execution_count": 14,
     "metadata": {},
     "output_type": "execute_result"
    }
   ],
   "source": [
    "# tạo dữ liệu train để fit (bao gồm train_df và valid_df)\n",
    "train_inputs = df[:len(df) - len(test_df) - 60]\n",
    "train_X, train_y = preprocess_pipeline.fit_transform(train_inputs)\n",
    "\n",
    "# build model \n",
    "model = createModel(train_X)\n",
    "model.fit(train_X, train_y, batch_size=1, epochs=best_epoch)"
   ]
  },
  {
   "cell_type": "code",
   "execution_count": 15,
   "metadata": {},
   "outputs": [],
   "source": [
    "# tạo dữ liệu test \n",
    "test_inputs = df[len(df) - len(test_df) - 60:]\n",
    "test_X, test_y = preprocess_pipeline.transform(test_inputs)\n",
    "\n",
    "# dự đoán tập inputs và chuẩn hóa ngược lại về dạng giá ban đầu \n",
    "pred_test = model.predict(test_X)\n",
    "pred_test = preprocess_pipeline.inverse_transform(pred_test)"
   ]
  },
  {
   "cell_type": "code",
   "execution_count": 16,
   "metadata": {},
   "outputs": [
    {
     "data": {
      "text/plain": [
       "(554, 1)"
      ]
     },
     "execution_count": 16,
     "metadata": {},
     "output_type": "execute_result"
    }
   ],
   "source": [
    "# dự đoán tập inputs và chuẩn hóa ngược lại về dạng giá ban đầu \n",
    "pred_test = model.predict(test_X)\n",
    "pred_test = preprocess_pipeline.inverse_transform(pred_test)\n",
    "pred_test.shape"
   ]
  },
  {
   "cell_type": "code",
   "execution_count": 17,
   "metadata": {},
   "outputs": [
    {
     "name": "stderr",
     "output_type": "stream",
     "text": [
      "<ipython-input-17-8bf82077058b>:6: SettingWithCopyWarning: \n",
      "A value is trying to be set on a copy of a slice from a DataFrame.\n",
      "Try using .loc[row_indexer,col_indexer] = value instead\n",
      "\n",
      "See the caveats in the documentation: https://pandas.pydata.org/pandas-docs/stable/user_guide/indexing.html#returning-a-view-versus-a-copy\n",
      "  test['Predictions'] = pred_test\n"
     ]
    },
    {
     "data": {
      "image/png": "[encoded data removed]",
      "text/plain": [
       "<Figure size 1152x648 with 1 Axes>"
      ]
     },
     "metadata": {
      "needs_background": "light"
     },
     "output_type": "display_data"
    }
   ],
   "source": [
    "# vẽ đồ thị phần train, test và predict \n",
    "length = df.shape[0]\n",
    "eightyPercent = length * 80 // 100\n",
    "train = df[:eightyPercent]\n",
    "test = df[eightyPercent:]\n",
    "test['Predictions'] = pred_test\n",
    "\n",
    "plt.figure(figsize=(16,9))\n",
    "plt.title('Train, Test, Prediction Price')\n",
    "plt.xlabel('Date')\n",
    "plt.ylabel('Adj Close')\n",
    "plt.plot(train['Adj Close'])\n",
    "plt.plot(test[['Adj Close','Predictions']])\n",
    "plt.legend(['Train', 'Val', 'Predictions'], loc='lower right')\n",
    "plt.show()"
   ]
  },
  {
   "cell_type": "code",
   "execution_count": 18,
   "metadata": {},
   "outputs": [
    {
     "data": {
      "text/html": [
       "<div>\n",
       "<style scoped>\n",
       "    .dataframe tbody tr th:only-of-type {\n",
       "        vertical-align: middle;\n",
       "    }\n",
       "\n",
       "    .dataframe tbody tr th {\n",
       "        vertical-align: top;\n",
       "    }\n",
       "\n",
       "    .dataframe thead th {\n",
       "        text-align: right;\n",
       "    }\n",
       "</style>\n",
       "<table border=\"1\" class=\"dataframe\">\n",
       "  <thead>\n",
       "    <tr style=\"text-align: right;\">\n",
       "      <th></th>\n",
       "      <th>High</th>\n",
       "      <th>Low</th>\n",
       "      <th>Open</th>\n",
       "      <th>Close</th>\n",
       "      <th>Volume</th>\n",
       "      <th>Adj Close</th>\n",
       "      <th>Predictions</th>\n",
       "    </tr>\n",
       "    <tr>\n",
       "      <th>Date</th>\n",
       "      <th></th>\n",
       "      <th></th>\n",
       "      <th></th>\n",
       "      <th></th>\n",
       "      <th></th>\n",
       "      <th></th>\n",
       "      <th></th>\n",
       "    </tr>\n",
       "  </thead>\n",
       "  <tbody>\n",
       "    <tr>\n",
       "      <th>2017-10-18</th>\n",
       "      <td>1022.309998</td>\n",
       "      <td>996.549988</td>\n",
       "      <td>1009.270020</td>\n",
       "      <td>997.000000</td>\n",
       "      <td>2499700</td>\n",
       "      <td>997.000000</td>\n",
       "      <td>1011.307861</td>\n",
       "    </tr>\n",
       "    <tr>\n",
       "      <th>2017-10-19</th>\n",
       "      <td>991.049988</td>\n",
       "      <td>980.239990</td>\n",
       "      <td>990.000000</td>\n",
       "      <td>986.609985</td>\n",
       "      <td>3108200</td>\n",
       "      <td>986.609985</td>\n",
       "      <td>1000.912964</td>\n",
       "    </tr>\n",
       "    <tr>\n",
       "      <th>2017-10-20</th>\n",
       "      <td>994.619995</td>\n",
       "      <td>982.000000</td>\n",
       "      <td>993.530029</td>\n",
       "      <td>982.909973</td>\n",
       "      <td>2365100</td>\n",
       "      <td>982.909973</td>\n",
       "      <td>990.236633</td>\n",
       "    </tr>\n",
       "    <tr>\n",
       "      <th>2017-10-23</th>\n",
       "      <td>986.780029</td>\n",
       "      <td>962.500000</td>\n",
       "      <td>986.729980</td>\n",
       "      <td>966.299988</td>\n",
       "      <td>3494100</td>\n",
       "      <td>966.299988</td>\n",
       "      <td>987.343384</td>\n",
       "    </tr>\n",
       "    <tr>\n",
       "      <th>2017-10-24</th>\n",
       "      <td>979.849976</td>\n",
       "      <td>965.000000</td>\n",
       "      <td>969.000000</td>\n",
       "      <td>975.900024</td>\n",
       "      <td>2723900</td>\n",
       "      <td>975.900024</td>\n",
       "      <td>973.467102</td>\n",
       "    </tr>\n",
       "    <tr>\n",
       "      <th>...</th>\n",
       "      <td>...</td>\n",
       "      <td>...</td>\n",
       "      <td>...</td>\n",
       "      <td>...</td>\n",
       "      <td>...</td>\n",
       "      <td>...</td>\n",
       "      <td>...</td>\n",
       "    </tr>\n",
       "    <tr>\n",
       "      <th>2019-12-24</th>\n",
       "      <td>1795.569946</td>\n",
       "      <td>1787.579956</td>\n",
       "      <td>1793.810059</td>\n",
       "      <td>1789.209961</td>\n",
       "      <td>881300</td>\n",
       "      <td>1789.209961</td>\n",
       "      <td>1758.843262</td>\n",
       "    </tr>\n",
       "    <tr>\n",
       "      <th>2019-12-26</th>\n",
       "      <td>1870.459961</td>\n",
       "      <td>1799.500000</td>\n",
       "      <td>1801.010010</td>\n",
       "      <td>1868.770020</td>\n",
       "      <td>6005400</td>\n",
       "      <td>1868.770020</td>\n",
       "      <td>1756.126465</td>\n",
       "    </tr>\n",
       "    <tr>\n",
       "      <th>2019-12-27</th>\n",
       "      <td>1901.400024</td>\n",
       "      <td>1866.010010</td>\n",
       "      <td>1882.920044</td>\n",
       "      <td>1869.800049</td>\n",
       "      <td>6186600</td>\n",
       "      <td>1869.800049</td>\n",
       "      <td>1829.726929</td>\n",
       "    </tr>\n",
       "    <tr>\n",
       "      <th>2019-12-30</th>\n",
       "      <td>1884.000000</td>\n",
       "      <td>1840.619995</td>\n",
       "      <td>1874.000000</td>\n",
       "      <td>1846.890015</td>\n",
       "      <td>3674700</td>\n",
       "      <td>1846.890015</td>\n",
       "      <td>1827.890015</td>\n",
       "    </tr>\n",
       "    <tr>\n",
       "      <th>2019-12-31</th>\n",
       "      <td>1853.260010</td>\n",
       "      <td>1832.229980</td>\n",
       "      <td>1842.000000</td>\n",
       "      <td>1847.839966</td>\n",
       "      <td>2506500</td>\n",
       "      <td>1847.839966</td>\n",
       "      <td>1796.927368</td>\n",
       "    </tr>\n",
       "  </tbody>\n",
       "</table>\n",
       "<p>554 rows × 7 columns</p>\n",
       "</div>"
      ],
      "text/plain": [
       "                   High          Low         Open        Close   Volume  \\\n",
       "Date                                                                      \n",
       "2017-10-18  1022.309998   996.549988  1009.270020   997.000000  2499700   \n",
       "2017-10-19   991.049988   980.239990   990.000000   986.609985  3108200   \n",
       "2017-10-20   994.619995   982.000000   993.530029   982.909973  2365100   \n",
       "2017-10-23   986.780029   962.500000   986.729980   966.299988  3494100   \n",
       "2017-10-24   979.849976   965.000000   969.000000   975.900024  2723900   \n",
       "...                 ...          ...          ...          ...      ...   \n",
       "2019-12-24  1795.569946  1787.579956  1793.810059  1789.209961   881300   \n",
       "2019-12-26  1870.459961  1799.500000  1801.010010  1868.770020  6005400   \n",
       "2019-12-27  1901.400024  1866.010010  1882.920044  1869.800049  6186600   \n",
       "2019-12-30  1884.000000  1840.619995  1874.000000  1846.890015  3674700   \n",
       "2019-12-31  1853.260010  1832.229980  1842.000000  1847.839966  2506500   \n",
       "\n",
       "              Adj Close  Predictions  \n",
       "Date                                  \n",
       "2017-10-18   997.000000  1011.307861  \n",
       "2017-10-19   986.609985  1000.912964  \n",
       "2017-10-20   982.909973   990.236633  \n",
       "2017-10-23   966.299988   987.343384  \n",
       "2017-10-24   975.900024   973.467102  \n",
       "...                 ...          ...  \n",
       "2019-12-24  1789.209961  1758.843262  \n",
       "2019-12-26  1868.770020  1756.126465  \n",
       "2019-12-27  1869.800049  1829.726929  \n",
       "2019-12-30  1846.890015  1827.890015  \n",
       "2019-12-31  1847.839966  1796.927368  \n",
       "\n",
       "[554 rows x 7 columns]"
      ]
     },
     "execution_count": 18,
     "metadata": {},
     "output_type": "execute_result"
    }
   ],
   "source": [
    "test"
   ]
  },
  {
   "cell_type": "code",
   "execution_count": 19,
   "metadata": {},
   "outputs": [
    {
     "name": "stdout",
     "output_type": "stream",
     "text": [
      "42.64464244649616\n"
     ]
    }
   ],
   "source": [
    "mse = np.sqrt(np.mean((test['Adj Close'] - test['Predictions']) ** 2))\n",
    "print(mse)"
   ]
  }
 ],
 "metadata": {
  "kernelspec": {
   "display_name": "Python 3",
   "language": "python",
   "name": "python3"
  },
  "language_info": {
   "codemirror_mode": {
    "name": "ipython",
    "version": 3
   },
   "file_extension": ".py",
   "mimetype": "text/x-python",
   "name": "python",
   "nbconvert_exporter": "python",
   "pygments_lexer": "ipython3",
   "version": "3.8.5"
  }
 },
 "nbformat": 4,
 "nbformat_minor": 2
}
